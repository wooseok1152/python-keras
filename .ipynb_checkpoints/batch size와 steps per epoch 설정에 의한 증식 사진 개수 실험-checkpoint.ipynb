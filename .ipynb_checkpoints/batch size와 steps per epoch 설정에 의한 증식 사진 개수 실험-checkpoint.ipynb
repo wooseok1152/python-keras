{
 "cells": [
  {
   "cell_type": "code",
   "execution_count": null,
   "metadata": {},
   "outputs": [],
   "source": [
    "from tensorflow.keras.preprocessing.image import ImageDataGenerator\n",
    "\n",
    "datagen = ImageDataGenerator(rescale=1./255, shear_range=0.2, zoom_range=0.2, horizontal_flip=True)\n",
    "\n",
    "i = 0\n",
    "\n",
    "for batch in datagen.flow_from_directory(directory=r\"C:\\Users\\user\\Desktop\\generator_test\", class_mode=\"binary\", target_size=(150, 150), batch_size=3, save_to_dir=r\"C:\\Users\\user\\Desktop\\agumented\", save_prefix=\"hi\"):\n",
    "    \n",
    "    i = i+1\n",
    "    if i == 6 : \n",
    "        \n",
    "        break"
   ]
  }
 ],
 "metadata": {
  "kernelspec": {
   "display_name": "Python 3",
   "language": "python",
   "name": "python3"
  },
  "language_info": {
   "codemirror_mode": {
    "name": "ipython",
    "version": 3
   },
   "file_extension": ".py",
   "mimetype": "text/x-python",
   "name": "python",
   "nbconvert_exporter": "python",
   "pygments_lexer": "ipython3",
   "version": "3.7.1"
  }
 },
 "nbformat": 4,
 "nbformat_minor": 2
}
