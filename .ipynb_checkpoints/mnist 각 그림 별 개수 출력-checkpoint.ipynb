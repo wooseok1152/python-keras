{
 "cells": [
  {
   "cell_type": "code",
   "execution_count": 3,
   "metadata": {},
   "outputs": [
    {
     "name": "stdout",
     "output_type": "stream",
     "text": [
      "'0' 그림의 개수 : 5923\n",
      "'1' 그림의 개수 : 6742\n",
      "'2' 그림의 개수 : 5958\n",
      "'3' 그림의 개수 : 6131\n",
      "'4' 그림의 개수 : 5842\n",
      "'5' 그림의 개수 : 5421\n",
      "'6' 그림의 개수 : 5918\n",
      "'7' 그림의 개수 : 6265\n",
      "'8' 그림의 개수 : 5851\n",
      "'9' 그림의 개수 : 5949\n"
     ]
    }
   ],
   "source": [
    "import tensorflow\n",
    "from tensorflow.keras.datasets import mnist\n",
    "\n",
    "(train_dataset, train_labels), (test_dataset, test_labels) = mnist.load_data()\n",
    "\n",
    "train_labels = list(train_labels)\n",
    "for i in range(10):\n",
    "    \n",
    "    print(\"'{}' 그림의 개수 :\".format(i), train_labels.count(i))"
   ]
  },
  {
   "cell_type": "code",
   "execution_count": null,
   "metadata": {},
   "outputs": [],
   "source": []
  }
 ],
 "metadata": {
  "kernelspec": {
   "display_name": "Python 3",
   "language": "python",
   "name": "python3"
  },
  "language_info": {
   "codemirror_mode": {
    "name": "ipython",
    "version": 3
   },
   "file_extension": ".py",
   "mimetype": "text/x-python",
   "name": "python",
   "nbconvert_exporter": "python",
   "pygments_lexer": "ipython3",
   "version": "3.7.1"
  }
 },
 "nbformat": 4,
 "nbformat_minor": 2
}
