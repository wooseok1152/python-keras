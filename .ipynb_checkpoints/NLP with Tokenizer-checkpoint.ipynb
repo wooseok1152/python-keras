{
 "cells": [
  {
   "cell_type": "code",
   "execution_count": 35,
   "metadata": {},
   "outputs": [
    {
     "name": "stdout",
     "output_type": "stream",
     "text": [
      "word_index : {'the': 1, 'cat': 2, 'sat': 3, 'on': 4, 'mat': 5, 'dog': 6, 'ate': 7, 'my': 8, 'homework': 9} \n",
      "\n",
      "sequences : [[1, 2, 3, 4, 1, 5], [1]] \n",
      "\n",
      "one_hot_result :\n",
      "[[0. 1. 1. 1. 1. 1.]\n",
      " [0. 1. 0. 0. 0. 0.]]\n"
     ]
    }
   ],
   "source": [
    "from tensorflow.keras.preprocessing.text import Tokenizer\n",
    "\n",
    "text_samples = [\"The cat sat on the mat.\", \"The dog ate my homework.\"]\n",
    "\n",
    "# 가장 빈도수가 높은 5개의 단어만 선택하도록 num_words 매개변수 설정\n",
    "tokenizer = Tokenizer(num_words=6)\n",
    "\n",
    "# fit_on_texts()를 통해 token화 실시, num_words 매개변수 상관없이 모든 단어를 토큰으로 변환\n",
    "tokenizer.fit_on_texts(text_samples)\n",
    "\n",
    "# 토큰화 결과 확인\n",
    "word_index = tokenizer.word_index\n",
    "print(\"word_index :\", word_index, \"\\n\")\n",
    "\n",
    "# texts_to_sequences()를 통해 텍스트 샘플을 정수로 인코딩 된 sequence로 변형, word embedding할 때 사용\n",
    "sequences = tokenizer.texts_to_sequences(text_samples)\n",
    "print(\"sequences :\", sequences, \"\\n\")\n",
    "\n",
    "# texts_to_matrix()를 통해 텍스트 샘플을 원-핫 벡터로 변형, one-hot encoding할 때 사용\n",
    "one_hot_result = tokenizer.texts_to_matrix(text_samples, mode = \"binary\")\n",
    "print(\"one_hot_result :\")\n",
    "print(one_hot_result)"
   ]
  }
 ],
 "metadata": {
  "kernelspec": {
   "display_name": "Python 3",
   "language": "python",
   "name": "python3"
  },
  "language_info": {
   "codemirror_mode": {
    "name": "ipython",
    "version": 3
   },
   "file_extension": ".py",
   "mimetype": "text/x-python",
   "name": "python",
   "nbconvert_exporter": "python",
   "pygments_lexer": "ipython3",
   "version": "3.7.1"
  }
 },
 "nbformat": 4,
 "nbformat_minor": 2
}
