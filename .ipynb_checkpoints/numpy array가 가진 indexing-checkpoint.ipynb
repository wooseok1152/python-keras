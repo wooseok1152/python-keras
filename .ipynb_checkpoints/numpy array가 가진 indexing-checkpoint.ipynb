{
 "cells": [
  {
   "cell_type": "code",
   "execution_count": 12,
   "metadata": {},
   "outputs": [
    {
     "name": "stdout",
     "output_type": "stream",
     "text": [
      "2\n"
     ]
    }
   ],
   "source": [
    "'''pnadas의 loc 또는 iloc와 비슷한 indexing'''\n",
    "\n",
    "# 특정 요소만 가져오기\n",
    "a = np.array([[1,2],\n",
    "             [3,4]])\n",
    "\n",
    "print(a[0, 1])"
   ]
  },
  {
   "cell_type": "code",
   "execution_count": 15,
   "metadata": {},
   "outputs": [
    {
     "name": "stdout",
     "output_type": "stream",
     "text": [
      "[3 4] \n",
      "\n",
      "[1 3] \n",
      "\n"
     ]
    }
   ],
   "source": [
    "# 특정 행과 열을 선택해서 가져오기\n",
    "a = np.array([[1,2],\n",
    "             [3,4]])\n",
    "\n",
    "print(a[1], \"\\n\")\n",
    "print(a[:, 0], \"\\n\")"
   ]
  },
  {
   "cell_type": "code",
   "execution_count": 17,
   "metadata": {},
   "outputs": [
    {
     "name": "stdout",
     "output_type": "stream",
     "text": [
      "[[4 5]\n",
      " [7 8]]\n"
     ]
    }
   ],
   "source": [
    "# 구간에 해당하는 특정 행과 열 모두 가져오기\n",
    "a = np.array([[1,2,3],\n",
    "             [4,5,6],\n",
    "             [7,8,9]])\n",
    "\n",
    "print(a[1:3, :2])\n"
   ]
  },
  {
   "cell_type": "code",
   "execution_count": 11,
   "metadata": {},
   "outputs": [
    {
     "name": "stdout",
     "output_type": "stream",
     "text": [
      "boolean_array : [False False False False False  True  True  True  True  True]\n",
      "boolean_indxing : [ 6  7  8  9 10]\n"
     ]
    }
   ],
   "source": [
    "# boolean indexing\n",
    "\n",
    "a = np.arange(1, 11)\n",
    "b = np.zeros_like(a)\n",
    "boolean_array = np.array(a > 5)\n",
    "print(\"boolean_array :\", boolean_array)\n",
    "print(\"boolean_indxing :\", a[boolean_array])"
   ]
  }
 ],
 "metadata": {
  "kernelspec": {
   "display_name": "Python 3",
   "language": "python",
   "name": "python3"
  },
  "language_info": {
   "codemirror_mode": {
    "name": "ipython",
    "version": 3
   },
   "file_extension": ".py",
   "mimetype": "text/x-python",
   "name": "python",
   "nbconvert_exporter": "python",
   "pygments_lexer": "ipython3",
   "version": "3.7.1"
  }
 },
 "nbformat": 4,
 "nbformat_minor": 2
}
