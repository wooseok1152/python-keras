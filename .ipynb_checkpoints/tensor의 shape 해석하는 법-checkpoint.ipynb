{
 "cells": [
  {
   "cell_type": "code",
   "execution_count": 3,
   "metadata": {},
   "outputs": [
    {
     "data": {
      "text/plain": [
       "(3, 3, 5)"
      ]
     },
     "execution_count": 3,
     "metadata": {},
     "output_type": "execute_result"
    }
   ],
   "source": [
    "test = np.array([[[1,1,1,1,1],\n",
    "          [1,1,1,1,1],\n",
    "          [1,1,1,1,1]],\n",
    "         [[1,1,1,1,1],\n",
    "         [1,1,1,1,1],\n",
    "         [1,1,1,1,1]],\n",
    "         [[1,1,1,1,1],\n",
    "         [1,1,1,1,1],\n",
    "         [1,1,1,1,1]]])\n",
    "\n",
    "# 특정 numpy.array의 제일 안에 위치한 요소의 개수로 shape의 끝자리(제일 오른쪽) 부분부터 채워나감\n",
    "test.shape"
   ]
  }
 ],
 "metadata": {
  "kernelspec": {
   "display_name": "Python 3",
   "language": "python",
   "name": "python3"
  },
  "language_info": {
   "codemirror_mode": {
    "name": "ipython",
    "version": 3
   },
   "file_extension": ".py",
   "mimetype": "text/x-python",
   "name": "python",
   "nbconvert_exporter": "python",
   "pygments_lexer": "ipython3",
   "version": "3.7.1"
  }
 },
 "nbformat": 4,
 "nbformat_minor": 2
}
