{
 "cells": [
  {
   "cell_type": "code",
   "execution_count": null,
   "metadata": {},
   "outputs": [],
   "source": [
    "# LSTM 모델링\n",
    "\n",
    "from tensorflow.keras.layers import LSTM, Embedding, Dense, Bidirectional\n",
    "from tensorflow.keras.models import Sequential\n",
    "from tensorflow.keras.datasets import imdb\n",
    "from tensorflow.keras.preprocessing import sequence\n",
    "\n",
    "max_words = 10000\n",
    "maxlen_for_padding = 500\n",
    "\n",
    "(train_x, train_y), (test_x, test_y) = imdb.load_data(num_words=max_words)\n",
    "\n",
    "train_x = sequence.pad_sequences(train_x, maxlen=maxlen_for_padding)\n",
    "test_x = sequence.pad_sequences(test_x, maxlen=maxlen_for_padding)\n",
    "\n",
    "model = Sequential()\n",
    "model.add(Embedding(max_words, 32, input_length = maxlen_for_padding))\n",
    "model.add(Bidirectional(LSTM(32)))\n",
    "model.add(Dense(1, activation = \"sigmoid\"))\n",
    "\n",
    "model.compile(optimizer=\"rmsprop\", loss = \"binary_crossentropy\", metrics=[\"acc\"])\n",
    "\n",
    "history = model.fit(train_x, train_y, batch_size = 128, epochs = 10, validation_split = 0.2)\n",
    "model.summary()"
   ]
  },
  {
   "cell_type": "code",
   "execution_count": null,
   "metadata": {},
   "outputs": [],
   "source": [
    "%matplotlib inline\n",
    "\n",
    "acc = history.history[\"acc\"]\n",
    "loss = history.history[\"loss\"]\n",
    "val_acc = history.history[\"val_acc\"]\n",
    "val_loss = history.history[\"val_loss\"]\n",
    "\n",
    "epochs = list(range(1, len(acc) + 1))\n",
    "\n",
    "plt.plot(epochs, acc, \"bo\", label = \"Training acc\")\n",
    "plt.plot(epochs, val_acc, \"b\", label = \"Validation acc\")\n",
    "plt.legend()\n",
    "plt.title(\"Training and Validation acc\")\n",
    "\n",
    "plt.figure()\n",
    "\n",
    "plt.plot(epochs, loss, \"bo\", label = \"Training loss\")\n",
    "plt.plot(epochs, val_loss, \"b\", label = \"Validation loss\")\n",
    "plt.legend()\n",
    "plt.title(\"Training and Validation loss\")\n",
    "\n",
    "plt.show()"
   ]
  }
 ],
 "metadata": {
  "kernelspec": {
   "display_name": "Python 3",
   "language": "python",
   "name": "python3"
  },
  "language_info": {
   "codemirror_mode": {
    "name": "ipython",
    "version": 3
   },
   "file_extension": ".py",
   "mimetype": "text/x-python",
   "name": "python",
   "nbconvert_exporter": "python",
   "pygments_lexer": "ipython3",
   "version": "3.7.1"
  }
 },
 "nbformat": 4,
 "nbformat_minor": 2
}
