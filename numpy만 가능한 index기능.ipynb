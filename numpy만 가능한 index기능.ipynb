{
 "cells": [
  {
   "cell_type": "code",
   "execution_count": 15,
   "metadata": {},
   "outputs": [
    {
     "name": "stdout",
     "output_type": "stream",
     "text": [
      "only in numpy : 2 \n",
      "\n",
      "capable in both numpy and list : 2 \n",
      "\n",
      "------------------------------------------------------------- \n",
      "\n",
      "only in numpy : [3 4] \n",
      "\n",
      "capable in both numpy and list : [3 4] \n",
      "\n"
     ]
    }
   ],
   "source": [
    "# 해당 indexing은 tensor의 shpae를 활용한다.\n",
    "a = np.array([[1,2],\n",
    "             [3,4]])\n",
    "\n",
    "print(\"only in numpy :\", a[0, 1], \"\\n\")\n",
    "print(\"capable in both numpy and list :\", a[0][1], \"\\n\")\n",
    "\n",
    "print(\"-------------------------------------------------------------\", \"\\n\")\n",
    "\n",
    "# 3차원 tensor에서도 마찬가지이다.\n",
    "a = np.array(\n",
    "    [\n",
    "    [[1, 2],\n",
    "    [3, 4]],\n",
    "        \n",
    "    [[5, 6],\n",
    "    [7, 8]]\n",
    "    ]\n",
    ")\n",
    "print(\"only in numpy :\", a[0, 1], \"\\n\")\n",
    "print(\"capable in both numpy and list :\", a[0][1], \"\\n\")\n"
   ]
  },
  {
   "cell_type": "code",
   "execution_count": 19,
   "metadata": {},
   "outputs": [
    {
     "name": "stdout",
     "output_type": "stream",
     "text": [
      "[[1 2]\n",
      " [3 4]] \n",
      "\n",
      "[1 3] \n",
      "\n"
     ]
    }
   ],
   "source": [
    "# pnadas의 loc 또는 iloc와 비슷한 indexing\n",
    "a = np.array([[1,2],\n",
    "             [3,4]])\n",
    "\n",
    "print(a[[0,1]], \"\\n\")\n",
    "print(a[:, 0], \"\\n\")"
   ]
  },
  {
   "cell_type": "code",
   "execution_count": 15,
   "metadata": {},
   "outputs": [
    {
     "name": "stdout",
     "output_type": "stream",
     "text": [
      "a : [2 1 0] \n",
      "\n"
     ]
    },
    {
     "data": {
      "text/plain": [
       "array([[5, 6],\n",
       "       [3, 4],\n",
       "       [1, 2]])"
      ]
     },
     "execution_count": 15,
     "metadata": {},
     "output_type": "execute_result"
    }
   ],
   "source": [
    "a = np.arange(3)\n",
    "np.random.shuffle(a)\n",
    "print(\"a :\", a, \"\\n\")\n",
    "\n",
    "b = np.array([[1,2],\n",
    "             [3,4],\n",
    "             [5,6]])\n",
    "\n",
    "b[a]"
   ]
  }
 ],
 "metadata": {
  "kernelspec": {
   "display_name": "Python 3",
   "language": "python",
   "name": "python3"
  },
  "language_info": {
   "codemirror_mode": {
    "name": "ipython",
    "version": 3
   },
   "file_extension": ".py",
   "mimetype": "text/x-python",
   "name": "python",
   "nbconvert_exporter": "python",
   "pygments_lexer": "ipython3",
   "version": "3.7.1"
  }
 },
 "nbformat": 4,
 "nbformat_minor": 2
}
