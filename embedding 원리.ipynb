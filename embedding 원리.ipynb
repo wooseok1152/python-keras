{
 "cells": [
  {
   "cell_type": "code",
   "execution_count": 2,
   "metadata": {},
   "outputs": [
    {
     "name": "stdout",
     "output_type": "stream",
     "text": [
      "* original_output : \n",
      "\n",
      "tf.Tensor(\n",
      "[[[ 0.0049236   0.00380645]\n",
      "  [ 0.0027077  -0.03027818]\n",
      "  [-0.03935673 -0.03903745]\n",
      "  [-0.03765916 -0.02912518]]\n",
      "\n",
      " [[-0.0015741   0.00748192]\n",
      "  [ 0.02376603  0.04883314]\n",
      "  [ 0.01615869 -0.03428886]\n",
      "  [ 0.00277382 -0.03266327]]\n",
      "\n",
      " [[ 0.02027892 -0.00235651]\n",
      "  [ 0.03397136  0.02884101]\n",
      "  [ 0.02667049  0.01160431]\n",
      "  [-0.02868512  0.03512588]]], shape=(3, 4, 2), dtype=float32) \n",
      "\n",
      "* flatten_output : \n",
      "\n",
      "tf.Tensor(\n",
      "[[ 0.0049236   0.00380645  0.0027077  -0.03027818 -0.03935673 -0.03903745\n",
      "  -0.03765916 -0.02912518]\n",
      " [-0.0015741   0.00748192  0.02376603  0.04883314  0.01615869 -0.03428886\n",
      "   0.00277382 -0.03266327]\n",
      " [ 0.02027892 -0.00235651  0.03397136  0.02884101  0.02667049  0.01160431\n",
      "  -0.02868512  0.03512588]], shape=(3, 8), dtype=float32)\n"
     ]
    }
   ],
   "source": [
    "\"\"\"\n",
    "\n",
    "정수로 인코딩된 텍스트(시퀀스) 데이터셋이 embedding층을 통과했을 때 산출되는 결과 확인\n",
    "\n",
    "\"\"\"\n",
    "\n",
    "from tensorflow.keras.layers import Embedding\n",
    "from tensorflow.keras.layers import Flatten\n",
    "import numpy as np\n",
    "\n",
    "# 정수로 인코딩된 텍스트(시퀀스) 데이터 3개로 데이터셋이 구성되어 있음\n",
    "\n",
    "test = np.array([[1,2,3,4],\n",
    "                [5,6,7,8],\n",
    "                [9,10,11,12]])\n",
    "\n",
    "# embedding층 생성(input_dim : int > 0. Size of the vocabulary.[i.e. maximum integer index + 1])\n",
    "#                (output_dim: int >= 0. Dimension of the dense embedding)\n",
    "#                (input_length: Length of input sequences, when it is constant. This argument is required if you are going to connect `Flatten` then `Dense` layers upstream\n",
    "#                               Without it, the shape of the dense outputs cannot be computed.)\n",
    "\n",
    "embedding = Embedding(13, 2)\n",
    "\n",
    "# embedding층을 통과한 결과(embedding층을 통과한 결과값은 3차원 텐서임)\n",
    "\n",
    "original_output = embedding(test)\n",
    "print(\"* original_output :\", \"\\n\")\n",
    "print(original_output, \"\\n\")\n",
    "\n",
    "# flatten layer를 통해, 3차원 텐서인 결과를 2차원 텐서로 변환\n",
    "\n",
    "flatten = Flatten()\n",
    "flatten_output = flatten(original_output)\n",
    "print(\"* flatten_output :\", \"\\n\")\n",
    "print(flatten_output)"
   ]
  }
 ],
 "metadata": {
  "kernelspec": {
   "display_name": "Python 3.7.10 ('base')",
   "language": "python",
   "name": "python3"
  },
  "language_info": {
   "codemirror_mode": {
    "name": "ipython",
    "version": 3
   },
   "file_extension": ".py",
   "mimetype": "text/x-python",
   "name": "python",
   "nbconvert_exporter": "python",
   "pygments_lexer": "ipython3",
   "version": "3.7.10"
  },
  "vscode": {
   "interpreter": {
    "hash": "ad2bdc8ecc057115af97d19610ffacc2b4e99fae6737bb82f5d7fb13d2f2c186"
   }
  }
 },
 "nbformat": 4,
 "nbformat_minor": 2
}
