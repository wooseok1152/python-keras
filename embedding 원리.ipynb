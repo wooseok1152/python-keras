{
 "cells": [
  {
   "cell_type": "code",
   "execution_count": 1,
   "metadata": {},
   "outputs": [
    {
     "name": "stdout",
     "output_type": "stream",
     "text": [
      "tf.Tensor(\n",
      "[[[ 0.01217683  0.00088995]\n",
      "  [-0.02115117  0.01988066]\n",
      "  [ 0.03713397  0.01794236]\n",
      "  [-0.0323737   0.03216741]]\n",
      "\n",
      " [[-0.0058326   0.04247984]\n",
      "  [ 0.02628205  0.04117663]\n",
      "  [ 0.02894351  0.04763368]\n",
      "  [-0.00042223  0.03150706]]\n",
      "\n",
      " [[-0.01855874 -0.01485192]\n",
      "  [-0.03540049 -0.02459073]\n",
      "  [-0.04478988  0.00934152]\n",
      "  [ 0.02018074  0.03583537]]], shape=(3, 4, 2), dtype=float32) \n",
      "\n"
     ]
    },
    {
     "data": {
      "text/plain": [
       "<tf.Tensor: shape=(3, 8), dtype=float32, numpy=\n",
       "array([[ 0.01217683,  0.00088995, -0.02115117,  0.01988066,  0.03713397,\n",
       "         0.01794236, -0.0323737 ,  0.03216741],\n",
       "       [-0.0058326 ,  0.04247984,  0.02628205,  0.04117663,  0.02894351,\n",
       "         0.04763368, -0.00042223,  0.03150706],\n",
       "       [-0.01855874, -0.01485192, -0.03540049, -0.02459073, -0.04478988,\n",
       "         0.00934152,  0.02018074,  0.03583537]], dtype=float32)>"
      ]
     },
     "execution_count": 1,
     "metadata": {},
     "output_type": "execute_result"
    }
   ],
   "source": [
    "# 정수로 인코딩된 텍스트 데이터셋이 embedding층을 통과한 결과\n",
    "from tensorflow.keras.layers import Embedding\n",
    "from tensorflow.keras.layers import Flatten\n",
    "\n",
    "# 정수로 인코딩된 텍스트 데이터 3개로 해당 데이터셋이 구성되어 있음\n",
    "test = np.array([[1,2,3,4],\n",
    "                [5,6,7,8],\n",
    "                [9,10,11,12]])\n",
    "\n",
    "# embedding층 생성(매개변수를 통해 해당 embedding층에 대한 옵션 설정, input_length 매개변수에 설정은 안해도 상관없음)\n",
    "embedding = Embedding(13, 2, input_length = 4)\n",
    "\n",
    "# embedding층을 통과한 결과(embedding층을 통과한 결과값은 3차원 텐서임)\n",
    "'''한 개의 시퀀스 데이터(문장 데이터)가 embedding층을 통과하면, 해당 데이터의 차원이 '1'증가한다.'''\n",
    "output = embedding(test)\n",
    "print(output, \"\\n\")\n",
    "\n",
    "# 3차원 텐서인 결과를 2차원 텐서로 변환\n",
    "flatten = Flatten()\n",
    "flatten(output)"
   ]
  }
 ],
 "metadata": {
  "kernelspec": {
   "display_name": "Python 3",
   "language": "python",
   "name": "python3"
  },
  "language_info": {
   "codemirror_mode": {
    "name": "ipython",
    "version": 3
   },
   "file_extension": ".py",
   "mimetype": "text/x-python",
   "name": "python",
   "nbconvert_exporter": "python",
   "pygments_lexer": "ipython3",
   "version": "3.7.1"
  }
 },
 "nbformat": 4,
 "nbformat_minor": 2
}
