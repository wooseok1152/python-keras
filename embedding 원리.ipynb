{
 "cells": [
  {
   "cell_type": "code",
   "execution_count": 1,
   "metadata": {},
   "outputs": [
    {
     "name": "stdout",
     "output_type": "stream",
     "text": [
      "tf.Tensor(\n",
      "[[[-0.00543956  0.02127636]\n",
      "  [ 0.03446132  0.00584198]\n",
      "  [-0.04237906 -0.01965702]\n",
      "  [ 0.03600531  0.00647569]]\n",
      "\n",
      " [[ 0.03990679  0.0405543 ]\n",
      "  [-0.01339278  0.00545176]\n",
      "  [ 0.03798331  0.00092264]\n",
      "  [-0.01626499  0.04669598]]\n",
      "\n",
      " [[ 0.03265002  0.00802789]\n",
      "  [-0.02623963  0.01893989]\n",
      "  [ 0.02173693  0.01000526]\n",
      "  [ 0.0358379   0.04017143]]], shape=(3, 4, 2), dtype=float32) \n",
      "\n",
      "tf.Tensor(\n",
      "[[-0.00543956  0.02127636  0.03446132  0.00584198 -0.04237906 -0.01965702\n",
      "   0.03600531  0.00647569]\n",
      " [ 0.03990679  0.0405543  -0.01339278  0.00545176  0.03798331  0.00092264\n",
      "  -0.01626499  0.04669598]\n",
      " [ 0.03265002  0.00802789 -0.02623963  0.01893989  0.02173693  0.01000526\n",
      "   0.0358379   0.04017143]], shape=(3, 8), dtype=float32)\n"
     ]
    }
   ],
   "source": [
    "# 정수로 인코딩된 텍스트 데이터셋이 embedding층을 통과한 결과\n",
    "from tensorflow.keras.layers import Embedding\n",
    "from tensorflow.keras.layers import Flatten\n",
    "\n",
    "# 정수로 인코딩된 텍스트 데이터 3개로 해당 데이터셋이 구성되어 있음\n",
    "test = np.array([[1,2,3,4],\n",
    "                [5,6,7,8],\n",
    "                [9,10,11,12]])\n",
    "\n",
    "# embedding층 생성(매개변수를 통해 해당 embedding층에 대한 옵션 설정, input_length 매개변수에 설정은 안해도 상관없음)\n",
    "embedding = Embedding(13, 2)\n",
    "\n",
    "# embedding층을 통과한 결과(embedding층을 통과한 결과값은 3차원 텐서임)\n",
    "'''한 개의 시퀀스 데이터(문장 데이터)가 embedding층을 통과하면, 해당 데이터의 차원이 '1'증가한다.'''\n",
    "output = embedding(test)\n",
    "print(output, \"\\n\")\n",
    "\n",
    "# 3차원 텐서인 결과를 2차원 텐서로 변환\n",
    "flatten = Flatten()\n",
    "output = flatten(output)\n",
    "print(output)"
   ]
  },
  {
   "cell_type": "code",
   "execution_count": null,
   "metadata": {},
   "outputs": [],
   "source": []
  }
 ],
 "metadata": {
  "kernelspec": {
   "display_name": "Python 3",
   "language": "python",
   "name": "python3"
  },
  "language_info": {
   "codemirror_mode": {
    "name": "ipython",
    "version": 3
   },
   "file_extension": ".py",
   "mimetype": "text/x-python",
   "name": "python",
   "nbconvert_exporter": "python",
   "pygments_lexer": "ipython3",
   "version": "3.7.1"
  }
 },
 "nbformat": 4,
 "nbformat_minor": 2
}
