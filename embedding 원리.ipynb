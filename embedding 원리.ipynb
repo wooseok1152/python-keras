{
 "cells": [
  {
   "cell_type": "code",
   "execution_count": 1,
   "metadata": {},
   "outputs": [
    {
     "name": "stdout",
     "output_type": "stream",
     "text": [
      "tf.Tensor(\n",
      "[[[-7.8477263e-03  2.6386607e-02]\n",
      "  [-2.0863861e-04 -7.5878613e-03]\n",
      "  [-4.1149557e-05 -2.7333761e-02]\n",
      "  [-2.5608135e-02 -4.8292316e-02]]\n",
      "\n",
      " [[ 3.5538081e-02  4.9968567e-02]\n",
      "  [ 3.3713926e-02 -3.5729408e-02]\n",
      "  [ 2.7557466e-02  1.5857253e-02]\n",
      "  [-3.2699130e-02  3.9769474e-02]]\n",
      "\n",
      " [[-2.0057404e-02 -4.7181021e-02]\n",
      "  [-5.8404803e-03 -3.0572761e-02]\n",
      "  [-3.3682086e-02  1.7493438e-02]\n",
      "  [-1.2011148e-02 -1.0812748e-02]]], shape=(3, 4, 2), dtype=float32) \n",
      "\n"
     ]
    },
    {
     "data": {
      "text/plain": [
       "<tf.Tensor: shape=(3, 8), dtype=float32, numpy=\n",
       "array([[-7.8477263e-03,  2.6386607e-02, -2.0863861e-04, -7.5878613e-03,\n",
       "        -4.1149557e-05, -2.7333761e-02, -2.5608135e-02, -4.8292316e-02],\n",
       "       [ 3.5538081e-02,  4.9968567e-02,  3.3713926e-02, -3.5729408e-02,\n",
       "         2.7557466e-02,  1.5857253e-02, -3.2699130e-02,  3.9769474e-02],\n",
       "       [-2.0057404e-02, -4.7181021e-02, -5.8404803e-03, -3.0572761e-02,\n",
       "        -3.3682086e-02,  1.7493438e-02, -1.2011148e-02, -1.0812748e-02]],\n",
       "      dtype=float32)>"
      ]
     },
     "execution_count": 1,
     "metadata": {},
     "output_type": "execute_result"
    }
   ],
   "source": [
    "# 정수로 인코딩된 텍스트 데이터셋이 embedding층을 통과한 결과\n",
    "from tensorflow.keras.layers import Embedding\n",
    "from tensorflow.keras.layers import Flatten\n",
    "\n",
    "# 정수로 인코딩된 텍스트 데이터 3개로 해당 데이터셋이 구성되어 있음\n",
    "test = np.array([[1,2,3,4],\n",
    "                [5,6,7,8],\n",
    "                [9,10,11,12]])\n",
    "\n",
    "# embedding층 생성(매개변수를 통해 해당 embedding층에 대한 옵션 설정)\n",
    "embedding = Embedding(13, 2, input_length = 4)\n",
    "\n",
    "# embedding층을 통과한 결과(embedding층을 통과한 결과값은 3차원 텐서임)\n",
    "output = embedding(test)\n",
    "print(output, \"\\n\")\n",
    "\n",
    "# 3차원 텐서인 결과를 2차원 텐서로 변환\n",
    "flatten = Flatten()\n",
    "flatten(output)"
   ]
  }
 ],
 "metadata": {
  "kernelspec": {
   "display_name": "Python 3",
   "language": "python",
   "name": "python3"
  },
  "language_info": {
   "codemirror_mode": {
    "name": "ipython",
    "version": 3
   },
   "file_extension": ".py",
   "mimetype": "text/x-python",
   "name": "python",
   "nbconvert_exporter": "python",
   "pygments_lexer": "ipython3",
   "version": "3.7.1"
  }
 },
 "nbformat": 4,
 "nbformat_minor": 2
}
