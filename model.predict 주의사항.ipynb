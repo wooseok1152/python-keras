{
 "cells": [
  {
   "cell_type": "code",
   "execution_count": 11,
   "metadata": {},
   "outputs": [
    {
     "data": {
      "text/plain": [
       "<tensorflow.python.keras.callbacks.History at 0x27c6cd5d550>"
      ]
     },
     "execution_count": 11,
     "metadata": {},
     "output_type": "execute_result"
    }
   ],
   "source": [
    "import tensorflow as tf\n",
    "\n",
    "x = np.array([[2,1],\n",
    "             [3,2],\n",
    "             [3,4],\n",
    "             [5,5],\n",
    "             [7,5],\n",
    "             [2,5]])\n",
    "\n",
    "y = np.array([[0],\n",
    "             [0],\n",
    "             [0],\n",
    "             [1],\n",
    "             [1],\n",
    "             [1]])\n",
    "\n",
    "from tensorflow.keras import layers\n",
    "model = tf.keras.Sequential()\n",
    "model.add(layers.Dense(1, activation = \"sigmoid\", input_dim = 2))\n",
    "model.compile(optimizer=tf.keras.optimizers.SGD(0.1), loss = \"binary_crossentropy\")\n",
    "model.fit(x, y, epochs = 4000, verbose = 0)"
   ]
  },
  {
   "cell_type": "code",
   "execution_count": 22,
   "metadata": {},
   "outputs": [
    {
     "name": "stdout",
     "output_type": "stream",
     "text": [
      "[[0.8338279]]\n"
     ]
    }
   ],
   "source": [
    "'''predict 매개변수에 훈련 데이터셋의 차원과 동일한 값을 입력해야 한다.'''\n",
    "predicted = model.predict([[2,5]])\n",
    "print(predicted)"
   ]
  }
 ],
 "metadata": {
  "kernelspec": {
   "display_name": "Python 3",
   "language": "python",
   "name": "python3"
  },
  "language_info": {
   "codemirror_mode": {
    "name": "ipython",
    "version": 3
   },
   "file_extension": ".py",
   "mimetype": "text/x-python",
   "name": "python",
   "nbconvert_exporter": "python",
   "pygments_lexer": "ipython3",
   "version": "3.7.1"
  }
 },
 "nbformat": 4,
 "nbformat_minor": 2
}
