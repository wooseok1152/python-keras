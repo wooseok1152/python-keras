{
 "cells": [
  {
   "cell_type": "code",
   "execution_count": 5,
   "metadata": {},
   "outputs": [
    {
     "name": "stdout",
     "output_type": "stream",
     "text": [
      "500\n",
      "500\n",
      "500\n",
      "500\n",
      "500\n",
      "500\n",
      "500\n",
      "500\n",
      "500\n",
      "500\n"
     ]
    }
   ],
   "source": [
    "from tensorflow.keras import layers\n",
    "from tensorflow.keras.models import Sequential\n",
    "from tensorflow.keras.datasets import imdb\n",
    "from tensorflow.keras.preprocessing import sequence\n",
    "from tensorflow.keras.optimizers import RMSprop\n",
    "\n",
    "max_words = 10000\n",
    "maxlen_for_padding = 500\n",
    "\n",
    "(train_x, train_y), (test_x, test_y) = imdb.load_data(num_words=max_words)\n",
    "\n",
    "train_x = sequence.pad_sequences(train_x, maxlen=maxlen_for_padding)\n",
    "test_x = sequence.pad_sequences(test_x, maxlen=maxlen_for_padding)\n",
    "\n",
    "# 'train_x'dataset에 포함된 10개의 데이터 길이 확인\n",
    "for i in range(10):\n",
    "    \n",
    "    print(len(train_x[i]))"
   ]
  },
  {
   "cell_type": "code",
   "execution_count": 8,
   "metadata": {},
   "outputs": [
    {
     "name": "stdout",
     "output_type": "stream",
     "text": [
      "Model: \"sequential_4\"\n",
      "_________________________________________________________________\n",
      "Layer (type)                 Output Shape              Param #   \n",
      "=================================================================\n",
      "embedding_4 (Embedding)      (None, 500, 128)          1280000   \n",
      "_________________________________________________________________\n",
      "conv1d_8 (Conv1D)            (None, 494, 32)           28704     \n",
      "_________________________________________________________________\n",
      "max_pooling1d_5 (MaxPooling1 (None, 98, 32)            0         \n",
      "_________________________________________________________________\n",
      "conv1d_9 (Conv1D)            (None, 92, 32)            7200      \n",
      "_________________________________________________________________\n",
      "global_max_pooling1d_3 (Glob (None, 32)                0         \n",
      "_________________________________________________________________\n",
      "dense_4 (Dense)              (None, 1)                 33        \n",
      "=================================================================\n",
      "Total params: 1,315,937\n",
      "Trainable params: 1,315,937\n",
      "Non-trainable params: 0\n",
      "_________________________________________________________________\n",
      "Epoch 1/10\n",
      "157/157 [==============================] - 5s 31ms/step - loss: 0.8570 - acc: 0.5034 - val_loss: 0.6901 - val_acc: 0.5346\n",
      "Epoch 2/10\n",
      "157/157 [==============================] - 4s 25ms/step - loss: 0.6745 - acc: 0.6379 - val_loss: 0.6777 - val_acc: 0.6128\n",
      "Epoch 3/10\n",
      "157/157 [==============================] - 4s 25ms/step - loss: 0.6449 - acc: 0.7431 - val_loss: 0.6528 - val_acc: 0.6906\n",
      "Epoch 4/10\n",
      "157/157 [==============================] - 4s 25ms/step - loss: 0.5948 - acc: 0.8066 - val_loss: 0.5893 - val_acc: 0.7734\n",
      "Epoch 5/10\n",
      "157/157 [==============================] - 4s 25ms/step - loss: 0.4944 - acc: 0.8357 - val_loss: 0.4704 - val_acc: 0.8132\n",
      "Epoch 6/10\n",
      "157/157 [==============================] - 4s 25ms/step - loss: 0.3830 - acc: 0.8652 - val_loss: 0.4105 - val_acc: 0.8384\n",
      "Epoch 7/10\n",
      "157/157 [==============================] - 4s 25ms/step - loss: 0.3238 - acc: 0.8871 - val_loss: 0.4018 - val_acc: 0.8526\n",
      "Epoch 8/10\n",
      "157/157 [==============================] - 4s 25ms/step - loss: 0.2863 - acc: 0.9019 - val_loss: 0.4178 - val_acc: 0.8614\n",
      "Epoch 9/10\n",
      "157/157 [==============================] - 4s 25ms/step - loss: 0.2521 - acc: 0.9148 - val_loss: 0.4229 - val_acc: 0.8682\n",
      "Epoch 10/10\n",
      "157/157 [==============================] - 4s 26ms/step - loss: 0.2236 - acc: 0.9253 - val_loss: 0.4391 - val_acc: 0.8692\n"
     ]
    }
   ],
   "source": [
    "model = Sequential()\n",
    "model.add(layers.Embedding(max_words, 128, input_length = maxlen_for_padding))\n",
    "model.add(layers.Conv1D(32, 7, activation=\"relu\"))\n",
    "model.add(layers.MaxPooling1D(5))\n",
    "model.add(layers.Conv1D(32, 7, activation=\"relu\"))\n",
    "model.add(layers.GlobalMaxPooling1D())\n",
    "model.add(layers.Dense(1))\n",
    "\n",
    "model.summary()\n",
    "\n",
    "model.compile(optimizer = RMSprop(lr = 1e-4), loss = \"binary_crossentropy\", metrics = [\"acc\"])\n",
    "history = model.fit(train_x, train_y, epochs = 10, batch_size = 128, validation_split = 0.2)"
   ]
  },
  {
   "cell_type": "code",
   "execution_count": 9,
   "metadata": {},
   "outputs": [
    {
     "data": {
      "image/png": "[encoded data removed]",
      "text/plain": [
       "<Figure size 432x288 with 1 Axes>"
      ]
     },
     "metadata": {
      "needs_background": "light"
     },
     "output_type": "display_data"
    },
    {
     "data": {
      "image/png": "[encoded data removed]",
      "text/plain": [
       "<Figure size 432x288 with 1 Axes>"
      ]
     },
     "metadata": {
      "needs_background": "light"
     },
     "output_type": "display_data"
    }
   ],
   "source": [
    "# 위 모델링에 대한 결과\n",
    "%matplotlib inline\n",
    "\n",
    "acc = history.history[\"acc\"]\n",
    "loss = history.history[\"loss\"]\n",
    "val_acc = history.history[\"val_acc\"]\n",
    "val_loss = history.history[\"val_loss\"]\n",
    "\n",
    "epochs = list(range(1, len(acc) + 1))\n",
    "\n",
    "plt.plot(epochs, acc, \"bo\", label = \"Training acc\")\n",
    "plt.plot(epochs, val_acc, \"b\", label = \"Validation acc\")\n",
    "plt.legend()\n",
    "plt.title(\"Training and Validation acc\")\n",
    "\n",
    "plt.figure()\n",
    "\n",
    "plt.plot(epochs, loss, \"bo\", label = \"Training loss\")\n",
    "plt.plot(epochs, val_loss, \"b\", label = \"Validation loss\")\n",
    "plt.legend()\n",
    "plt.title(\"Training and Validation loss\")\n",
    "\n",
    "plt.show()"
   ]
  },
  {
   "cell_type": "code",
   "execution_count": 10,
   "metadata": {},
   "outputs": [
    {
     "name": "stdout",
     "output_type": "stream",
     "text": [
      "Model: \"sequential_5\"\n",
      "_________________________________________________________________\n",
      "Layer (type)                 Output Shape              Param #   \n",
      "=================================================================\n",
      "embedding_5 (Embedding)      (None, 500, 128)          1280000   \n",
      "_________________________________________________________________\n",
      "conv1d_10 (Conv1D)           (None, 494, 32)           28704     \n",
      "_________________________________________________________________\n",
      "max_pooling1d_6 (MaxPooling1 (None, 98, 32)            0         \n",
      "_________________________________________________________________\n",
      "conv1d_11 (Conv1D)           (None, 92, 32)            7200      \n",
      "_________________________________________________________________\n",
      "global_max_pooling1d_4 (Glob (None, 32)                0         \n",
      "_________________________________________________________________\n",
      "dense_5 (Dense)              (None, 1)                 33        \n",
      "=================================================================\n",
      "Total params: 1,315,937\n",
      "Trainable params: 1,315,937\n",
      "Non-trainable params: 0\n",
      "_________________________________________________________________\n",
      "Epoch 1/7\n",
      "157/157 [==============================] - 4s 26ms/step - loss: 0.7407 - acc: 0.5266 - val_loss: 0.6826 - val_acc: 0.5698\n",
      "Epoch 2/7\n",
      "157/157 [==============================] - 4s 25ms/step - loss: 0.6610 - acc: 0.6561 - val_loss: 0.6555 - val_acc: 0.6600\n",
      "Epoch 3/7\n",
      "157/157 [==============================] - 4s 25ms/step - loss: 0.6077 - acc: 0.7495 - val_loss: 0.5831 - val_acc: 0.7402\n",
      "Epoch 4/7\n",
      "157/157 [==============================] - 4s 25ms/step - loss: 0.4981 - acc: 0.8079 - val_loss: 0.4702 - val_acc: 0.8094\n",
      "Epoch 5/7\n",
      "157/157 [==============================] - 4s 25ms/step - loss: 0.3932 - acc: 0.8519 - val_loss: 0.4188 - val_acc: 0.8434\n",
      "Epoch 6/7\n",
      "157/157 [==============================] - 4s 25ms/step - loss: 0.3381 - acc: 0.8761 - val_loss: 0.4120 - val_acc: 0.8558\n",
      "Epoch 7/7\n",
      "157/157 [==============================] - 4s 25ms/step - loss: 0.3018 - acc: 0.8957 - val_loss: 0.4110 - val_acc: 0.8662\n",
      "782/782 [==============================] - 2s 3ms/step - loss: 0.4262 - acc: 0.8535\n"
     ]
    },
    {
     "data": {
      "text/plain": [
       "[0.4262034296989441, 0.8535199761390686]"
      ]
     },
     "execution_count": 10,
     "metadata": {},
     "output_type": "execute_result"
    }
   ],
   "source": [
    "# 오버피팅 직전 epoch까지만 학습시키고, test dataset으로 최종 평가\n",
    "model = Sequential()\n",
    "model.add(layers.Embedding(max_words, 128, input_length = maxlen_for_padding))\n",
    "model.add(layers.Conv1D(32, 7, activation=\"relu\"))\n",
    "model.add(layers.MaxPooling1D(5))\n",
    "model.add(layers.Conv1D(32, 7, activation=\"relu\"))\n",
    "model.add(layers.GlobalMaxPooling1D())\n",
    "model.add(layers.Dense(1))\n",
    "\n",
    "model.summary()\n",
    "\n",
    "model.compile(optimizer = RMSprop(lr = 1e-4), loss = \"binary_crossentropy\", metrics = [\"acc\"])\n",
    "history = model.fit(train_x, train_y, epochs = 7, batch_size = 128, validation_split = 0.2)\n",
    "\n",
    "model.evaluate(test_x, test_y)"
   ]
  }
 ],
 "metadata": {
  "kernelspec": {
   "display_name": "Python 3",
   "language": "python",
   "name": "python3"
  },
  "language_info": {
   "codemirror_mode": {
    "name": "ipython",
    "version": 3
   },
   "file_extension": ".py",
   "mimetype": "text/x-python",
   "name": "python",
   "nbconvert_exporter": "python",
   "pygments_lexer": "ipython3",
   "version": "3.7.1"
  }
 },
 "nbformat": 4,
 "nbformat_minor": 2
}
