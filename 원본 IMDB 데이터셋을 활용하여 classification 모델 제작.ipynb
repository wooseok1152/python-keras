{
 "cells": [
  {
   "cell_type": "code",
   "execution_count": 2,
   "metadata": {},
   "outputs": [
    {
     "name": "stdout",
     "output_type": "stream",
     "text": [
      "25000\n",
      "25000\n"
     ]
    }
   ],
   "source": [
    "# imdb 원본 텍스트 데이터셋 불러오기\n",
    "import os\n",
    "\n",
    "imdb_dir = r\".\\aclImdb\\aclImdb\"\n",
    "train_dir = os.path.join(imdb_dir, \"train\")\n",
    "\n",
    "labels = []\n",
    "dataset_with_text = []\n",
    "\n",
    "for i in [\"neg\", \"pos\"]:\n",
    "    \n",
    "    if i == \"neg\":\n",
    "        \n",
    "        neg_datas = os.listdir(r\".\\aclImdb\\aclImdb\\train\\neg\")\n",
    "#         print(neg_datas, \"\\n\")\n",
    "        for j in neg_datas:\n",
    "            \n",
    "            f = open(\"./aclImdb/aclImdb/train/neg/\" + j, encoding=\"utf8\")\n",
    "            dataset_with_text.append(f.read())\n",
    "            labels.append(0)\n",
    "    \n",
    "    elif i == \"pos\":\n",
    "        \n",
    "        pos_datas = os.listdir(r\".\\aclImdb\\aclImdb\\train\\pos\")\n",
    "#         print(pos_datas, \"\\n\")\n",
    "        for j in pos_datas:\n",
    "            \n",
    "            f = open(\"./aclImdb/aclImdb/train/pos/\" + j, encoding=\"utf8\")\n",
    "            dataset_with_text.append(f.read())\n",
    "            labels.append(1)\n",
    "            \n",
    "print(len(dataset_with_text))\n",
    "print(len(labels))\n"
   ]
  },
  {
   "cell_type": "code",
   "execution_count": 3,
   "metadata": {
    "scrolled": true
   },
   "outputs": [
    {
     "name": "stdout",
     "output_type": "stream",
     "text": [
      "(200, 20)\n",
      "(200,)\n",
      "(10000, 20)\n",
      "(10000,)\n"
     ]
    }
   ],
   "source": [
    "# imdb 원본 텍스트 데이터셋 토큰화하기\n",
    "from tensorflow.keras.preprocessing.text import Tokenizer\n",
    "from tensorflow.keras.preprocessing.sequence import pad_sequences\n",
    "\n",
    "maxlen = 20\n",
    "training_samples = 200\n",
    "validation_samples = 10000\n",
    "max_words = 10000\n",
    "\n",
    "tokenzier = Tokenizer(num_words=10000)\n",
    "tokenzier.fit_on_texts(dataset_with_text)\n",
    "tokenizer_result = tokenzier.word_index\n",
    "dataset_with_int_sequences = tokenzier.texts_to_sequences(dataset_with_text)\n",
    "\n",
    "# print(dataset_with_int_sequences)\n",
    "\n",
    "dataset_with_int_sequences = pad_sequences(dataset_with_int_sequences, maxlen=maxlen)\n",
    "labels = np.asarray(labels)\n",
    "\n",
    "# 정수 인코딩 시퀀스로 이뤄진 데이터셋을 셔플하는 작업\n",
    "indices = np.arange(dataset_with_int_sequences.shape[0])\n",
    "np.random.shuffle(indices)\n",
    "dataset_with_int_sequences = dataset_with_int_sequences[indices]\n",
    "labels = labels[indices]\n",
    "\n",
    "x_train = dataset_with_int_sequences[:training_samples]\n",
    "y_train = labels[:training_samples]\n",
    "x_val = dataset_with_int_sequences[training_samples : training_samples + validation_samples]\n",
    "y_val = labels[training_samples : training_samples + validation_samples]\n",
    "\n",
    "print(x_train.shape)\n",
    "print(y_train.shape)\n",
    "print(x_val.shape)\n",
    "print(y_val.shape)"
   ]
  },
  {
   "cell_type": "code",
   "execution_count": 4,
   "metadata": {},
   "outputs": [],
   "source": [
    "'''GloVe 파일을 웹에서 다운받아서 진행할 것(github 레파지토리에 해당 파일은 없음)'''\n",
    "# GloVe 단어 임베딩(사전 훈련된 단어 임베딩)파일 파싱하기\n",
    "import os\n",
    "\n",
    "glove_dir = \"./glove.6B\"\n",
    "\n",
    "glove_word_embedding = {}\n",
    "f = open(os.path.join(glove_dir, \"glove.6B.100d.txt\"), encoding = \"utf8\")\n",
    "\n",
    "# f는 iterable객체이고 순환하면서 한 문장씩 가져올 수 있음\n",
    "for line in f:\n",
    "    \n",
    "    values = line.split()\n",
    "    word = values[0]\n",
    "    word_vector = np.asarray(values[1:], dtype = \"float32\")\n",
    "    glove_word_embedding[word] = word_vector\n",
    "    \n",
    "f.close()\n",
    "# print(len(word_embedding.keys()))    "
   ]
  },
  {
   "cell_type": "code",
   "execution_count": 5,
   "metadata": {},
   "outputs": [],
   "source": [
    "# 사전에 훈련된 GloVe 단어 임베딩을 활용하여, imdb 데이터 내 단어들에 대한 임베딩 행렬 준비\n",
    "embedding_dim = 100\n",
    "\n",
    "# \n",
    "embedding_matrix = np.zeros((max_words, embedding_dim))\n",
    "for word, i in tokenizer_result.items():\n",
    "    \n",
    "    if i < max_words:\n",
    "        \n",
    "        # 딕셔너리의 'get(key)'메소드는 해당 딕셔너리 내에 인자로 들어온 key가 없다면 None을 반환한다.\n",
    "        embedding_vector = glove_word_embedding.get(word)\n",
    "        if embedding_vector is not None:\n",
    "            \n",
    "            embedding_matrix[i] = embedding_vector"
   ]
  },
  {
   "cell_type": "code",
   "execution_count": 8,
   "metadata": {},
   "outputs": [
    {
     "name": "stdout",
     "output_type": "stream",
     "text": [
      "Model: \"sequential\"\n",
      "_________________________________________________________________\n",
      "Layer (type)                 Output Shape              Param #   \n",
      "=================================================================\n",
      "embedding (Embedding)        (None, 20, 100)           1000000   \n",
      "_________________________________________________________________\n",
      "flatten (Flatten)            (None, 2000)              0         \n",
      "_________________________________________________________________\n",
      "dense (Dense)                (None, 32)                64032     \n",
      "_________________________________________________________________\n",
      "dense_1 (Dense)              (None, 1)                 33        \n",
      "=================================================================\n",
      "Total params: 1,064,065\n",
      "Trainable params: 1,064,065\n",
      "Non-trainable params: 0\n",
      "_________________________________________________________________\n"
     ]
    }
   ],
   "source": [
    "# 모델 정의하기\n",
    "from tensorflow.keras.models import Sequential\n",
    "from tensorflow.keras.layers import Dense, Flatten, Embedding\n",
    "\n",
    "model = Sequential()\n",
    "model.add(Embedding(max_words, embedding_dim, input_length = maxlen))\n",
    "model.add(Flatten())\n",
    "model.add(Dense(32, activation = \"relu\"))\n",
    "model.add(Dense(1, activation = \"sigmoid\"))\n",
    "model.summary()"
   ]
  },
  {
   "cell_type": "code",
   "execution_count": 9,
   "metadata": {},
   "outputs": [],
   "source": [
    "# 선언한 모델에 GloVe 단어 임베딩을 활용하여 이미 만들어진 단어 임베딩 행렬 로드하기\n",
    "model.layers[0].set_weights([embedding_matrix])\n",
    "model.layers[0].trainable = False"
   ]
  },
  {
   "cell_type": "code",
   "execution_count": 11,
   "metadata": {},
   "outputs": [
    {
     "name": "stdout",
     "output_type": "stream",
     "text": [
      "Epoch 1/10\n",
      "7/7 [==============================] - 1s 112ms/step - loss: 0.7338 - acc: 0.5700 - val_loss: 0.7202 - val_acc: 0.5208\n",
      "Epoch 2/10\n",
      "7/7 [==============================] - 0s 60ms/step - loss: 0.5120 - acc: 0.7400 - val_loss: 0.7614 - val_acc: 0.5225\n",
      "Epoch 3/10\n",
      "7/7 [==============================] - 0s 49ms/step - loss: 0.4336 - acc: 0.8350 - val_loss: 0.7944 - val_acc: 0.5280\n",
      "Epoch 4/10\n",
      "7/7 [==============================] - 0s 49ms/step - loss: 0.3057 - acc: 0.9100 - val_loss: 0.7982 - val_acc: 0.5356\n",
      "Epoch 5/10\n",
      "7/7 [==============================] - 0s 50ms/step - loss: 0.2717 - acc: 0.9200 - val_loss: 0.8106 - val_acc: 0.5450\n",
      "Epoch 6/10\n",
      "7/7 [==============================] - 0s 50ms/step - loss: 0.1892 - acc: 0.9700 - val_loss: 0.7954 - val_acc: 0.5492\n",
      "Epoch 7/10\n",
      "7/7 [==============================] - 0s 47ms/step - loss: 0.1460 - acc: 1.0000 - val_loss: 0.9914 - val_acc: 0.5354\n",
      "Epoch 8/10\n",
      "7/7 [==============================] - 0s 51ms/step - loss: 0.1286 - acc: 0.9900 - val_loss: 0.8365 - val_acc: 0.5496\n",
      "Epoch 9/10\n",
      "7/7 [==============================] - 0s 50ms/step - loss: 0.1322 - acc: 0.9650 - val_loss: 0.9365 - val_acc: 0.5394\n",
      "Epoch 10/10\n",
      "7/7 [==============================] - 0s 55ms/step - loss: 0.0676 - acc: 1.0000 - val_loss: 0.9048 - val_acc: 0.5553\n"
     ]
    }
   ],
   "source": [
    "# model compile 설정\n",
    "model.compile(optimizer=\"rmsprop\", loss = \"binary_crossentropy\", metrics = [\"acc\"])\n",
    "\n",
    "# model 학습 진행\n",
    "history = model.fit(x_train, y_train, epochs = 10, batch_size=32, validation_data=(x_val, y_val))\n",
    "model.save_weights(\"pre_trained_glove_model.h5\")"
   ]
  },
  {
   "cell_type": "code",
   "execution_count": 15,
   "metadata": {},
   "outputs": [
    {
     "data": {
      "image/png": "[encoded data removed]",
      "text/plain": [
       "<Figure size 432x288 with 1 Axes>"
      ]
     },
     "metadata": {
      "needs_background": "light"
     },
     "output_type": "display_data"
    },
    {
     "data": {
      "image/png": "[encoded data removed]",
      "text/plain": [
       "<Figure size 432x288 with 1 Axes>"
      ]
     },
     "metadata": {
      "needs_background": "light"
     },
     "output_type": "display_data"
    }
   ],
   "source": [
    "# GloVe 임베딩을 활용한 classification 모델 훈련 결과 출력\n",
    "%matplotlib inline\n",
    "\n",
    "acc = history.history[\"acc\"]\n",
    "val_acc = history.history[\"val_acc\"]\n",
    "loss = history.history[\"loss\"]\n",
    "val_loss = history.history[\"val_loss\"]\n",
    "\n",
    "epochs = list(range(1, len(acc) + 1))\n",
    "\n",
    "plt.title(\"Training and Validation acc\")\n",
    "plt.plot(epochs, acc, \"bo\", label = \"Training acc\")\n",
    "plt.plot(epochs, val_acc, \"b\", label = \"Validation acc\")\n",
    "plt.legend()\n",
    "\n",
    "plt.figure()\n",
    "\n",
    "plt.title(\"Training and Validation loss\")\n",
    "plt.plot(epochs, loss, \"bo\", label = \"Training loss\")\n",
    "plt.plot(epochs, val_loss, \"b\", label = \"Validation loss\")\n",
    "plt.legend()\n",
    "\n",
    "plt.show()"
   ]
  },
  {
   "cell_type": "code",
   "execution_count": 16,
   "metadata": {},
   "outputs": [
    {
     "name": "stdout",
     "output_type": "stream",
     "text": [
      "Model: \"sequential_1\"\n",
      "_________________________________________________________________\n",
      "Layer (type)                 Output Shape              Param #   \n",
      "=================================================================\n",
      "embedding_1 (Embedding)      (None, 20, 100)           1000000   \n",
      "_________________________________________________________________\n",
      "flatten_1 (Flatten)          (None, 2000)              0         \n",
      "_________________________________________________________________\n",
      "dense_2 (Dense)              (None, 32)                64032     \n",
      "_________________________________________________________________\n",
      "dense_3 (Dense)              (None, 1)                 33        \n",
      "=================================================================\n",
      "Total params: 1,064,065\n",
      "Trainable params: 1,064,065\n",
      "Non-trainable params: 0\n",
      "_________________________________________________________________\n",
      "Epoch 1/10\n",
      "7/7 [==============================] - 1s 107ms/step - loss: 0.6920 - acc: 0.5000 - val_loss: 0.6927 - val_acc: 0.5148\n",
      "Epoch 2/10\n",
      "7/7 [==============================] - 0s 59ms/step - loss: 0.6212 - acc: 0.9950 - val_loss: 0.6919 - val_acc: 0.5210\n",
      "Epoch 3/10\n",
      "7/7 [==============================] - 0s 61ms/step - loss: 0.5520 - acc: 1.0000 - val_loss: 0.6914 - val_acc: 0.5232\n",
      "Epoch 4/10\n",
      "7/7 [==============================] - 0s 61ms/step - loss: 0.4520 - acc: 1.0000 - val_loss: 0.6920 - val_acc: 0.5267\n",
      "Epoch 5/10\n",
      "7/7 [==============================] - 0s 56ms/step - loss: 0.3295 - acc: 1.0000 - val_loss: 0.6942 - val_acc: 0.5283\n",
      "Epoch 6/10\n",
      "7/7 [==============================] - 0s 56ms/step - loss: 0.2198 - acc: 1.0000 - val_loss: 0.6981 - val_acc: 0.5257\n",
      "Epoch 7/10\n",
      "7/7 [==============================] - 0s 56ms/step - loss: 0.1391 - acc: 1.0000 - val_loss: 0.7037 - val_acc: 0.5293\n",
      "Epoch 8/10\n",
      "7/7 [==============================] - 0s 58ms/step - loss: 0.0856 - acc: 1.0000 - val_loss: 0.7117 - val_acc: 0.5275\n",
      "Epoch 9/10\n",
      "7/7 [==============================] - 0s 57ms/step - loss: 0.0524 - acc: 1.0000 - val_loss: 0.7195 - val_acc: 0.5284\n",
      "Epoch 10/10\n",
      "7/7 [==============================] - 0s 55ms/step - loss: 0.0323 - acc: 1.0000 - val_loss: 0.7289 - val_acc: 0.5281\n"
     ]
    }
   ],
   "source": [
    "# GloVe 임베딩 사용하지 않고 모델 훈련\n",
    "from tensorflow.keras.models import Sequential\n",
    "from tensorflow.keras.layers import Dense, Flatten, Embedding\n",
    "\n",
    "model = Sequential()\n",
    "model.add(Embedding(max_words, embedding_dim, input_length = maxlen))\n",
    "model.add(Flatten())\n",
    "model.add(Dense(32, activation = \"relu\"))\n",
    "model.add(Dense(1, activation = \"sigmoid\"))\n",
    "model.summary()\n",
    "\n",
    "model.compile(optimizer=\"rmsprop\", loss = \"binary_crossentropy\", metrics = [\"acc\"])\n",
    "history = model.fit(x_train, y_train, epochs = 10, batch_size = 32, validation_data = (x_val, y_val))"
   ]
  },
  {
   "cell_type": "code",
   "execution_count": 18,
   "metadata": {},
   "outputs": [
    {
     "data": {
      "image/png": "[encoded data removed]",
      "text/plain": [
       "<Figure size 432x288 with 1 Axes>"
      ]
     },
     "metadata": {
      "needs_background": "light"
     },
     "output_type": "display_data"
    },
    {
     "data": {
      "image/png": "[encoded data removed]",
      "text/plain": [
       "<Figure size 432x288 with 1 Axes>"
      ]
     },
     "metadata": {
      "needs_background": "light"
     },
     "output_type": "display_data"
    }
   ],
   "source": [
    "# GloVe 임베딩을 활용하지 않은 classification 모델 훈련 결과 출력\n",
    "acc = history.history[\"acc\"]\n",
    "val_acc = history.history[\"val_acc\"]\n",
    "loss = history.history[\"loss\"]\n",
    "val_loss = history.history[\"val_loss\"]\n",
    "\n",
    "epochs = list(range(1, len(acc) + 1))\n",
    "\n",
    "plt.title(\"Training and Validation loss\")\n",
    "plt.plot(epochs, loss, \"bo\", label = \"Training loss\")\n",
    "plt.plot(epochs, val_loss, \"b\", label = \"Validation loss\")\n",
    "plt.legend()\n",
    "\n",
    "plt.figure()\n",
    "\n",
    "plt.title(\"Training and Validation acc\")\n",
    "plt.plot(epochs, acc, \"bo\", label = \"Training acc\")\n",
    "plt.plot(epochs, val_acc, \"b\", label = \"Validaiton acc\")\n",
    "plt.legend()\n",
    "\n",
    "plt.show()"
   ]
  },
  {
   "cell_type": "code",
   "execution_count": 32,
   "metadata": {},
   "outputs": [],
   "source": [
    "test_dir = os.path.join(imdb_dir, \"test\")\n",
    "\n",
    "labels = []\n",
    "dataset_with_text = []\n",
    "\n",
    "for label_type in [\"neg\", \"pos\"]:\n",
    "    \n",
    "    if label_type == \"neg\":\n",
    "        \n",
    "        neg_dir_list = os.listdir(os.path.join(test_dir, label_type))\n",
    "        for i in neg_dir_list:\n",
    "            \n",
    "            file = open(test_dir + \"/neg/\" + i, encoding=\"utf8\")\n",
    "            text = file.read()\n",
    "            dataset_with_text.append(text)\n",
    "            labels.append(0)\n",
    "    \n",
    "    elif label_type == \"pos\":\n",
    "        \n",
    "        pos_dir_list = os.listdir(os.path.join(test_dir, label_type))\n",
    "        for j in pos_dir_list:\n",
    "            \n",
    "            file = open(test_dir + \"/pos/\" + j, encoding=\"utf8\")\n",
    "            text = file.read()\n",
    "            dataset_with_text.append(text)\n",
    "            labels.append(1)\n",
    "            \n",
    "dataset_with_sequences = tokenzier.texts_to_sequences(dataset_with_text)\n",
    "x_test = pad_sequences(dataset_with_sequences, maxlen = maxlen)\n",
    "y_test = np.asarray(labels)"
   ]
  },
  {
   "cell_type": "code",
   "execution_count": 33,
   "metadata": {},
   "outputs": [
    {
     "name": "stdout",
     "output_type": "stream",
     "text": [
      "782/782 [==============================] - 1s 1ms/step - loss: 0.9067 - acc: 0.5476\n"
     ]
    },
    {
     "data": {
      "text/plain": [
       "[0.90674889087677, 0.5476400256156921]"
      ]
     },
     "execution_count": 33,
     "metadata": {},
     "output_type": "execute_result"
    }
   ],
   "source": [
    "model.load_weights(\"pre_trained_glove_model.h5\")\n",
    "model.evaluate(x_test, y_test)"
   ]
  },
  {
   "cell_type": "code",
   "execution_count": null,
   "metadata": {},
   "outputs": [],
   "source": []
  }
 ],
 "metadata": {
  "kernelspec": {
   "display_name": "Python 3",
   "language": "python",
   "name": "python3"
  },
  "language_info": {
   "codemirror_mode": {
    "name": "ipython",
    "version": 3
   },
   "file_extension": ".py",
   "mimetype": "text/x-python",
   "name": "python",
   "nbconvert_exporter": "python",
   "pygments_lexer": "ipython3",
   "version": "3.7.1"
  }
 },
 "nbformat": 4,
 "nbformat_minor": 2
}
