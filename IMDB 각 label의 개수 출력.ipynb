{
 "cells": [
  {
   "cell_type": "code",
   "execution_count": 3,
   "metadata": {},
   "outputs": [
    {
     "name": "stdout",
     "output_type": "stream",
     "text": [
      "긍정의 개수 : 12500\n",
      "부정의 개수 : 12500\n"
     ]
    }
   ],
   "source": [
    "from tensorflow.keras.datasets import imdb\n",
    "\n",
    "(train_dataset, train_labels), (test_dataset, test_labels) = imdb.load_data(num_words=10000)\n",
    "train_labels = list(train_labels)\n",
    "\n",
    "for i in range(1):\n",
    "    \n",
    "    print(\"긍정의 개수 :\", train_labels.count(1))\n",
    "    print(\"부정의 개수 :\", train_labels.count(0))    "
   ]
  }
 ],
 "metadata": {
  "kernelspec": {
   "display_name": "Python 3",
   "language": "python",
   "name": "python3"
  },
  "language_info": {
   "codemirror_mode": {
    "name": "ipython",
    "version": 3
   },
   "file_extension": ".py",
   "mimetype": "text/x-python",
   "name": "python",
   "nbconvert_exporter": "python",
   "pygments_lexer": "ipython3",
   "version": "3.7.1"
  }
 },
 "nbformat": 4,
 "nbformat_minor": 2
}
